{
 "cells": [
  {
   "cell_type": "code",
   "execution_count": 2,
   "metadata": {},
   "outputs": [],
   "source": [
    "import numpy as np\n",
    "import pandas as pd\n",
    "import seaborn as sns\n",
    "\n",
    "import matplotlib as mpl\n",
    "import matplotlib.pyplot as plt\n",
    "\n",
    "%matplotlib inline"
   ]
  },
  {
   "cell_type": "code",
   "execution_count": 3,
   "metadata": {},
   "outputs": [],
   "source": [
    "from numpy.random import randn, randint, uniform, sample"
   ]
  },
  {
   "cell_type": "code",
   "execution_count": 4,
   "metadata": {},
   "outputs": [],
   "source": [
    "df = pd.DataFrame(randn(10,4), columns=['a', 'b', 'c', 'd'])"
   ]
  },
  {
   "cell_type": "code",
   "execution_count": 5,
   "metadata": {},
   "outputs": [
    {
     "data": {
      "text/html": [
       "<div>\n",
       "<style scoped>\n",
       "    .dataframe tbody tr th:only-of-type {\n",
       "        vertical-align: middle;\n",
       "    }\n",
       "\n",
       "    .dataframe tbody tr th {\n",
       "        vertical-align: top;\n",
       "    }\n",
       "\n",
       "    .dataframe thead th {\n",
       "        text-align: right;\n",
       "    }\n",
       "</style>\n",
       "<table border=\"1\" class=\"dataframe\">\n",
       "  <thead>\n",
       "    <tr style=\"text-align: right;\">\n",
       "      <th></th>\n",
       "      <th>a</th>\n",
       "      <th>b</th>\n",
       "      <th>c</th>\n",
       "      <th>d</th>\n",
       "    </tr>\n",
       "  </thead>\n",
       "  <tbody>\n",
       "    <tr>\n",
       "      <th>0</th>\n",
       "      <td>0.338706</td>\n",
       "      <td>0.232076</td>\n",
       "      <td>-0.493080</td>\n",
       "      <td>-0.835125</td>\n",
       "    </tr>\n",
       "    <tr>\n",
       "      <th>1</th>\n",
       "      <td>-1.275755</td>\n",
       "      <td>0.349110</td>\n",
       "      <td>-0.497878</td>\n",
       "      <td>1.966845</td>\n",
       "    </tr>\n",
       "    <tr>\n",
       "      <th>2</th>\n",
       "      <td>0.374661</td>\n",
       "      <td>1.377042</td>\n",
       "      <td>1.854086</td>\n",
       "      <td>0.201444</td>\n",
       "    </tr>\n",
       "    <tr>\n",
       "      <th>3</th>\n",
       "      <td>-1.616452</td>\n",
       "      <td>-1.342765</td>\n",
       "      <td>-0.310533</td>\n",
       "      <td>-0.237277</td>\n",
       "    </tr>\n",
       "    <tr>\n",
       "      <th>4</th>\n",
       "      <td>-0.434890</td>\n",
       "      <td>0.184155</td>\n",
       "      <td>1.080626</td>\n",
       "      <td>-1.301641</td>\n",
       "    </tr>\n",
       "    <tr>\n",
       "      <th>5</th>\n",
       "      <td>-1.329491</td>\n",
       "      <td>-0.717568</td>\n",
       "      <td>-1.351232</td>\n",
       "      <td>-0.407742</td>\n",
       "    </tr>\n",
       "    <tr>\n",
       "      <th>6</th>\n",
       "      <td>0.401387</td>\n",
       "      <td>0.543530</td>\n",
       "      <td>1.446571</td>\n",
       "      <td>0.517502</td>\n",
       "    </tr>\n",
       "    <tr>\n",
       "      <th>7</th>\n",
       "      <td>-1.073896</td>\n",
       "      <td>-0.547937</td>\n",
       "      <td>0.390414</td>\n",
       "      <td>-0.101560</td>\n",
       "    </tr>\n",
       "    <tr>\n",
       "      <th>8</th>\n",
       "      <td>-0.842509</td>\n",
       "      <td>1.009636</td>\n",
       "      <td>1.220569</td>\n",
       "      <td>0.420789</td>\n",
       "    </tr>\n",
       "    <tr>\n",
       "      <th>9</th>\n",
       "      <td>0.436687</td>\n",
       "      <td>0.745282</td>\n",
       "      <td>-0.363011</td>\n",
       "      <td>0.136279</td>\n",
       "    </tr>\n",
       "  </tbody>\n",
       "</table>\n",
       "</div>"
      ],
      "text/plain": [
       "          a         b         c         d\n",
       "0  0.338706  0.232076 -0.493080 -0.835125\n",
       "1 -1.275755  0.349110 -0.497878  1.966845\n",
       "2  0.374661  1.377042  1.854086  0.201444\n",
       "3 -1.616452 -1.342765 -0.310533 -0.237277\n",
       "4 -0.434890  0.184155  1.080626 -1.301641\n",
       "5 -1.329491 -0.717568 -1.351232 -0.407742\n",
       "6  0.401387  0.543530  1.446571  0.517502\n",
       "7 -1.073896 -0.547937  0.390414 -0.101560\n",
       "8 -0.842509  1.009636  1.220569  0.420789\n",
       "9  0.436687  0.745282 -0.363011  0.136279"
      ]
     },
     "execution_count": 5,
     "metadata": {},
     "output_type": "execute_result"
    }
   ],
   "source": [
    "df"
   ]
  },
  {
   "cell_type": "code",
   "execution_count": 14,
   "metadata": {},
   "outputs": [
    {
     "data": {
      "image/png": "[encoded data removed]",
      "text/plain": [
       "<Figure size 432x288 with 1 Axes>"
      ]
     },
     "metadata": {
      "needs_background": "light"
     },
     "output_type": "display_data"
    }
   ],
   "source": [
    "df.plot.hist(bins = 20)\n",
    "plt.title(\"Histogram\")\n",
    "# plt.legend()\n",
    "plt.xlabel(\"x-axis\")\n",
    "plt.ylabel(\"y-axis\")\n",
    "plt.show()\n"
   ]
  },
  {
   "cell_type": "code",
   "execution_count": null,
   "metadata": {},
   "outputs": [],
   "source": []
  }
 ],
 "metadata": {
  "kernelspec": {
   "display_name": "Python 3",
   "language": "python",
   "name": "python3"
  },
  "language_info": {
   "codemirror_mode": {
    "name": "ipython",
    "version": 3
   },
   "file_extension": ".py",
   "mimetype": "text/x-python",
   "name": "python",
   "nbconvert_exporter": "python",
   "pygments_lexer": "ipython3",
   "version": "3.8.5"
  }
 },
 "nbformat": 4,
 "nbformat_minor": 4
}
